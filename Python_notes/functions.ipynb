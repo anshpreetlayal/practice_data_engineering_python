{
 "cells": [
  {
   "cell_type": "markdown",
   "metadata": {},
   "source": [
    "# Functions in Python\n",
    "\n",
    "1. **Definition of Functions**:\n",
    "- Functions in Python are defined using the def keyword, followed by the function name and parameters.\n",
    "- Parameters are inputs to the function and are optional.\n",
    "- The return statement is used to send a value back to the caller. It's optional, and if omitted, the function returns None by default."
   ]
  },
  {
   "cell_type": "code",
   "execution_count": null,
   "metadata": {},
   "outputs": [],
   "source": [
    "# Syntax:\n",
    "def function_name(parameters):\n",
    "    # Function body\n",
    "    # Code to be executed\n",
    "    return result  # Optional"
   ]
  },
  {
   "cell_type": "markdown",
   "metadata": {},
   "source": [
    "2. **Function Call**:\n",
    "- After defining a function, you  call it to execute the code within the function."
   ]
  },
  {
   "cell_type": "code",
   "execution_count": null,
   "metadata": {},
   "outputs": [],
   "source": [
    "# Syntax: \n",
    "result = function_name(arguments)\n",
    "#Arguments are the actual values passed to the function's parameters."
   ]
  },
  {
   "cell_type": "markdown",
   "metadata": {},
   "source": [
    "3. **Default Parameter Values**:\n",
    "- You can set default values for parameters in a function."
   ]
  },
  {
   "cell_type": "code",
   "execution_count": null,
   "metadata": {},
   "outputs": [],
   "source": [
    "# example:\n",
    "def greet(name, greeting=\"Hello\"):\n",
    "    print(f\"{greeting}, {name}!\")\n",
    "\n",
    "greet(\"Johnny\")  # Prints: Hello, Johnny!\n",
    "greet(\"V\", \"Good morning\")  # Prints: Good morning, V!\n"
   ]
  },
  {
   "cell_type": "markdown",
   "metadata": {},
   "source": [
    "4. **Variable Number of Arguments**:\n",
    "- Functions can accept a variable number of arguments using *args and **kwargs.\n",
    "- *args collects positional arguments into a tuple, and **kwargs collects keyword arguments into a dictionary."
   ]
  },
  {
   "cell_type": "code",
   "execution_count": null,
   "metadata": {},
   "outputs": [],
   "source": [
    "# example:\n",
    "def print_arguments(*args, **kwargs):\n",
    "    print(\"Positional arguments:\", args)\n",
    "    print(\"Keyword arguments:\", kwargs)\n",
    "\n",
    "print_arguments(1, 2, 3, name=\"Alice\", age=30)"
   ]
  },
  {
   "cell_type": "markdown",
   "metadata": {},
   "source": [
    "5. **Lambda Functions (Anonymous Functions)**:\n",
    "- Lambda functions are small, anonymous functions defined using the lambda keyword."
   ]
  },
  {
   "cell_type": "code",
   "execution_count": null,
   "metadata": {},
   "outputs": [],
   "source": [
    "# example:\n",
    "square = lambda x: x**2\n",
    "print(square(5))  # Prints: 25"
   ]
  },
  {
   "cell_type": "markdown",
   "metadata": {},
   "source": [
    "6. **Global and Local Variables**:\n",
    "- Variables defined inside a function are local to that function.\n",
    "- To modify a global variable within a function, use the global keyword."
   ]
  },
  {
   "cell_type": "code",
   "execution_count": null,
   "metadata": {},
   "outputs": [],
   "source": [
    "# example: \n",
    "global_var = 10\n",
    "\n",
    "def update_global():\n",
    "    local_var = 5\n",
    "    global global_var\n",
    "    global_var = local_var + 1\n",
    "\n",
    "update_global()\n",
    "print(global_var)  # Prints: 6"
   ]
  },
  {
   "cell_type": "markdown",
   "metadata": {},
   "source": [
    "7. **Recursion**:\n",
    "- A function can call itself, creating a recursive function."
   ]
  },
  {
   "cell_type": "code",
   "execution_count": null,
   "metadata": {},
   "outputs": [],
   "source": [
    "# example: \n",
    "def factorial(n):\n",
    "    if n == 0 or n == 1:\n",
    "        return 1\n",
    "    else:\n",
    "        return n * factorial(n - 1)\n",
    "\n",
    "print(factorial(5))  # Prints: 120"
   ]
  },
  {
   "cell_type": "markdown",
   "metadata": {},
   "source": [
    "### Practice 'function' questions below:"
   ]
  },
  {
   "cell_type": "code",
   "execution_count": null,
   "metadata": {},
   "outputs": [],
   "source": [
    "# 1. Function Basics:\n",
    "\n",
    " #  - Write a function that takes two parameters, adds them, and returns the result.\n",
    " \n",
    "# Function: add_fruit_and_veg\n",
    "# Parameters:\n",
    "#   - fruit: a string representing a type of fruit\n",
    "#   - veg: a string representing a type of vegetable\n",
    "# Returns:\n",
    "#   - A string concatenation of 'fruit' and 'veg' with a space in between\n",
    "def add_fruit_and_veg(fruit, veg):\n",
    "    return fruit + \" \" + veg\n",
    "\n",
    "# Call the function with specific values for 'fruit' and 'veg'\n",
    "result = add_fruit_and_veg('mango', 'pea')\n",
    "\n",
    "# Print the result\n",
    "print(result)\n",
    "\n",
    " #  - Create a function that prints \"Hello, World!\" when called.\n",
    " \n",
    "# Function: print_hello_world\n",
    "# Parameters: None\n",
    "# Returns: None\n",
    "# Action: Prints \"Hello, World!\" to the console\n",
    "def print_hello_world():\n",
    "    print(\"Hello, World!\")\n",
    "\n",
    "# Call the function to print the greeting message\n",
    "print_hello_world()                  \n"
   ]
  },
  {
   "cell_type": "code",
   "execution_count": null,
   "metadata": {},
   "outputs": [],
   "source": [
    "# 2. Arguments and Parameters:\n",
    " #  - Define a function that takes a name as a parameter and prints a greeting message with the name.\n",
    "# Function: greetings\n",
    "# Parameters:\n",
    "#   - name: a string representing a user's name\n",
    "# Returns: None\n",
    "# Action: Prints a greeting message to the console\n",
    "def greetings(name):\n",
    "    print(\"Hello, \" + name + \"!\")\n",
    "\n",
    "# Get user input for the username\n",
    "username = input(\"Type your name here: \")\n",
    "\n",
    "# Call the greetings function with the entered username\n",
    "greetings(username)\n",
    "\n",
    " #  - Write a function that calculates the area of a rectangle given its length and width as parameters.\n",
    "# Function: area_of_rectangle\n",
    "# Parameters:\n",
    "#   - length: a numeric value representing the length of the rectangle\n",
    "#   - width: a numeric value representing the width of the rectangle\n",
    "# Returns: None\n",
    "# Action: Calculates and prints the area of the rectangle\n",
    "def area_of_rectangle(length, width):\n",
    "    area = length * width\n",
    "    print(\"The area of the rectangle is\", area)\n",
    "\n",
    "# Get user input for the length and width of the rectangle\n",
    "length = float(input(\"Enter the length of the rectangle: \"))\n",
    "width = float(input(\"Enter the width of the rectangle: \"))\n",
    "\n",
    "# Call the area_of_rectangle function with the entered values\n",
    "area_of_rectangle(length, width)\n"
   ]
  },
  {
   "cell_type": "code",
   "execution_count": null,
   "metadata": {},
   "outputs": [],
   "source": [
    "# 3.  Return Values:\n",
    " #  - Create a function that checks if a given number is even or odd and returns \"Even\" or \"Odd\" accordingly.\n",
    "# Function: even_odd\n",
    "# Parameters:\n",
    "#   - number: an integer to check whether it's even or odd\n",
    "# Returns: \n",
    "#   - A string, \"Even\" if the number is even, \"Odd\" otherwise\n",
    "def even_odd(number):\n",
    "    if number % 2 == 0:\n",
    "        return \"Even\"\n",
    "    else:\n",
    "        return \"Odd\"\n",
    "\n",
    "user_input = int(input(\"Enter a number: \"))\n",
    "result = even_odd(user_input)\n",
    "print(\"The number is\", result)\n",
    "\n",
    "      \n",
    " #  - Write a function that takes a list of numbers as a parameter and returns the sum of all the elements.\n",
    "# Function: sum_of_numbers\n",
    "# Parameters:\n",
    "#   - numbers: a list of numbers to calculate the sum\n",
    "# Returns:\n",
    "#   - The sum of all the numbers in the list\n",
    "def sum_of_numbers(numbers):\n",
    "    return sum(numbers)\n",
    "\n",
    "# Example usage:\n",
    "num_list = [1, 2, 3, 4, 5, 6, 7, 8, 9]\n",
    "result = sum_of_numbers(num_list)\n",
    "print(f\"The sum of numbers is: {result}\")\n"
   ]
  },
  {
   "cell_type": "code",
   "execution_count": null,
   "metadata": {},
   "outputs": [],
   "source": [
    "#4. **Default Parameters:**\n",
    "#   - Define a function that takes two parameters, a base number, and an exponent (default to 2), and calculates the power.\n",
    "\n",
    "#   - Create a function that prints a message with a given name and age, where age is a default parameter."
   ]
  },
  {
   "cell_type": "code",
   "execution_count": null,
   "metadata": {},
   "outputs": [],
   "source": [
    "\n",
    "#5. **Variable Scope:**\n",
    " #  - Write a function that includes a local variable and prints its value.\n",
    " #  - Create a function that modifies a global variable and then prints its new value."
   ]
  },
  {
   "cell_type": "code",
   "execution_count": null,
   "metadata": {},
   "outputs": [],
   "source": [
    "\n",
    "#6. **Recursion:**\n",
    "  # - Implement a recursive function to calculate the factorial of a number.\n",
    " #  - Write a recursive function to find the nth Fibonacci number."
   ]
  },
  {
   "cell_type": "code",
   "execution_count": null,
   "metadata": {},
   "outputs": [],
   "source": [
    "\n",
    "#7.  Lambda Functions:\n",
    "  # - Use a lambda function to square a given number.\n",
    " #  - Create a list of numbers and use the `filter` function with a lambda to get only the even numbers."
   ]
  },
  {
   "cell_type": "code",
   "execution_count": null,
   "metadata": {},
   "outputs": [],
   "source": [
    "\n",
    "#8. Error Handling:**\n",
    " #  - Define a function that takes user input as a number and handles a ValueError if the input is not a valid number.\n",
    "  # - Write a function that divides two numbers and handles a ZeroDivisionError.\n"
   ]
  },
  {
   "cell_type": "code",
   "execution_count": null,
   "metadata": {},
   "outputs": [],
   "source": [
    "#9. **Function Composition:**\n",
    "  # - Create two functions, one that doubles a number and another that adds 5 to a number. Compose these functions to get a new function that doubles a number and then adds 5.\n",
    "\n"
   ]
  },
  {
   "cell_type": "code",
   "execution_count": null,
   "metadata": {},
   "outputs": [],
   "source": [
    "#10. **String Manipulation:**\n",
    "   # - Write a function that takes a string as a parameter and returns the reverse of the string.\n",
    "   # - Create a function that counts the number of vowels in a given string"
   ]
  }
 ],
 "metadata": {
  "kernelspec": {
   "display_name": "venv",
   "language": "python",
   "name": "python3"
  },
  "language_info": {
   "codemirror_mode": {
    "name": "ipython",
    "version": 3
   },
   "file_extension": ".py",
   "mimetype": "text/x-python",
   "name": "python",
   "nbconvert_exporter": "python",
   "pygments_lexer": "ipython3",
   "version": "3.11.6"
  }
 },
 "nbformat": 4,
 "nbformat_minor": 2
}
