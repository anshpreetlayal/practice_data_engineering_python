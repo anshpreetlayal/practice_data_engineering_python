{
 "cells": [
  {
   "cell_type": "markdown",
   "metadata": {},
   "source": [
    "# Object-Oriented Programming (OOP) in Python\n",
    "\n",
    "Object-Oriented Programming (OOP) is a programming paradigm that structures code around the concept of \"objects.\" In Python, objects are instances of classes, which act as blueprints or templates defining the properties (attributes) and behaviors (methods) that objects of the class will have.\n",
    "\n",
    "## Key Principles:\n",
    "\n",
    "1. **Encapsulation:**\n",
    "   - Encapsulation involves bundling data (attributes) and methods (functions) within a single unit (class).\n",
    "   - It hides the internal details of how the object works and exposes a well-defined interface.\n",
    "\n",
    "2. **Inheritance:**\n",
    "   - Inheritance is a mechanism where a new class (subclass or derived class) inherits properties and behaviors from an existing class (base class or parent class).\n",
    "   - It promotes code reuse and the creation of a hierarchy of classes.\n",
    "\n",
    "3. **Polymorphism:**\n",
    "   - Polymorphism allows objects of different classes to be treated as instances of their common parent class.\n",
    "   - It provides flexibility and modularity, enabling code to work with objects of different types.\n",
    "\n",
    "OOP in Python provides a powerful and flexible way to design and structure code. Classes and objects facilitate the representation of real-world entities, and the principles of encapsulation, inheritance, and polymorphism contribute to the creation of modular and reusable code."
   ]
  },
  {
   "cell_type": "markdown",
   "metadata": {},
   "source": [
    "### Classes:\n",
    "\n",
    "1. **Class Definition:**\n",
    "   - A class is a blueprint or a template for creating objects.\n",
    "   - It defines the attributes (characteristics) and methods (functions) that the objects of the class will have."
   ]
  },
  {
   "cell_type": "code",
   "execution_count": null,
   "metadata": {},
   "outputs": [],
   "source": [
    "# Example\n",
    "\n",
    "class Dog:\n",
    "    def __init__(self, name, age):\n",
    "        self.name = name\n",
    "        self.age = age\n",
    "\n",
    "    def bark(self):\n",
    "        print(\"Woof!\")"
   ]
  },
  {
   "cell_type": "markdown",
   "metadata": {},
   "source": [
    "2. **Object Instantiation:**\n",
    "- Objects are instances of a class. They represent specific instances of the entity defined by the class"
   ]
  },
  {
   "cell_type": "code",
   "execution_count": null,
   "metadata": {},
   "outputs": [],
   "source": [
    "# Creating objects (instances) of the class\n",
    "dog1 = Dog(\"Buddy\", 3)\n",
    "dog2 = Dog(\"Max\", 5)"
   ]
  },
  {
   "cell_type": "markdown",
   "metadata": {},
   "source": [
    "### Objects:\n",
    "\n",
    "1. **Accessing Attributes:**\n",
    "- You can access the attributes of an object using dot notation."
   ]
  },
  {
   "cell_type": "code",
   "execution_count": null,
   "metadata": {},
   "outputs": [],
   "source": [
    "print(dog1.name)  # Outputs: Buddy\n",
    "print(dog2.age)   # Outputs: 5"
   ]
  },
  {
   "cell_type": "markdown",
   "metadata": {},
   "source": [
    "2. **Calling Methods:**\n",
    "- Objects can execute methods defined in their class."
   ]
  },
  {
   "cell_type": "code",
   "execution_count": null,
   "metadata": {},
   "outputs": [],
   "source": [
    "dog1.bark()  # Outputs: Woof!\n",
    "dog2.bark()  # Outputs: Woof!"
   ]
  },
  {
   "cell_type": "code",
   "execution_count": null,
   "metadata": {},
   "outputs": [],
   "source": [
    "# Example\n",
    "class Dog:\n",
    "    def __init__(self, name, age):\n",
    "        self.name = name\n",
    "        self.age = age\n",
    "\n",
    "    def bark(self):\n",
    "        print(\"Woof!\")\n",
    "\n",
    "# Creating objects (instances) of the class\n",
    "dog1 = Dog(\"Buddy\", 3)\n",
    "dog2 = Dog(\"Max\", 5)\n",
    "\n",
    "# Accessing attributes\n",
    "print(f\"{dog1.name} is {dog1.age} years old.\")\n",
    "\n",
    "# Calling methods\n",
    "dog2.bark()  # Outputs: Woof!\n"
   ]
  },
  {
   "cell_type": "markdown",
   "metadata": {},
   "source": [
    "# Encapsulation in Python\n",
    "\n",
    "Encapsulation is one of the fundamental principles of object-oriented programming (OOP) that promotes data hiding and abstraction. In Python, encapsulation is implemented using classes and access modifiers.\n",
    "\n",
    "## 1. **Classes and Objects:**\n",
    "\n",
    "- **Class:** A blueprint for creating objects. It defines attributes and methods that the objects will have.\n",
    "- **Object:** An instance of a class. It represents a unique entity with its own set of attributes and behaviors.\n",
    "\n",
    "## 2. **Access Modifiers:**\n",
    "\n",
    "Access modifiers are keywords in Python that define the scope of a class member (attribute or method). They control the visibility and accessibility of the members from outside the class.\n",
    "\n",
    "### a. **Public:**\n",
    "- Members are accessible from outside the class.\n",
    "- No special symbol is required for public members."
   ]
  },
  {
   "cell_type": "code",
   "execution_count": null,
   "metadata": {},
   "outputs": [],
   "source": [
    "# Example\n",
    "class MyClass:\n",
    "    def __init__(self):\n",
    "        self.public_attribute = 10\n",
    "\n",
    "    def public_method(self):\n",
    "        return \"This is a public method\""
   ]
  },
  {
   "cell_type": "markdown",
   "metadata": {},
   "source": [
    "### b. **Private:**\n",
    "- Members are not accessible from outside the class.\n",
    "- Denoted by a double underscore `__` prefix."
   ]
  },
  {
   "cell_type": "code",
   "execution_count": null,
   "metadata": {},
   "outputs": [],
   "source": [
    "# Example\n",
    "class MyClass:\n",
    "    def __init__(self):\n",
    "        self.__private_attribute = 20\n",
    "\n",
    "    def __private_method(self):\n",
    "        return \"This is a private method\"\n"
   ]
  },
  {
   "cell_type": "markdown",
   "metadata": {},
   "source": [
    "### c. **Protected:**\n",
    "- Members are accessible within the class and its subclasses.\n",
    "- Denoted by a single underscore `_` prefix."
   ]
  },
  {
   "cell_type": "code",
   "execution_count": null,
   "metadata": {},
   "outputs": [],
   "source": [
    "# Example\n",
    "class MyClass:\n",
    "    def __init__(self):\n",
    "        self._protected_attribute = 30\n",
    "\n",
    "    def _protected_method(self):\n",
    "        return \"This is a protected method\""
   ]
  },
  {
   "cell_type": "markdown",
   "metadata": {},
   "source": [
    "## 3. **Getter and Setter Methods:**\n",
    "\n",
    "To access or modify private attributes, getter and setter methods are commonly used. These methods provide controlled access to encapsulated data."
   ]
  },
  {
   "cell_type": "code",
   "execution_count": null,
   "metadata": {},
   "outputs": [],
   "source": [
    "# Example\n",
    "class MyClass:\n",
    "    def __init__(self):\n",
    "        self.__private_attribute = 20\n",
    "\n",
    "    def get_private_attribute(self):\n",
    "        return self.__private_attribute\n",
    "\n",
    "    def set_private_attribute(self, value):\n",
    "        self.__private_attribute = value\n"
   ]
  },
  {
   "cell_type": "markdown",
   "metadata": {},
   "source": [
    "## 4. **Property Decorators:**\n",
    "\n",
    "Python also provides property decorators to create getter and setter methods more elegantly."
   ]
  },
  {
   "cell_type": "code",
   "execution_count": null,
   "metadata": {},
   "outputs": [],
   "source": [
    "# Example\n",
    "class MyClass:\n",
    "    def __init__(self):\n",
    "        self.__private_attribute = 20\n",
    "\n",
    "    @property\n",
    "    def private_attribute(self):\n",
    "        return self.__private_attribute\n",
    "\n",
    "    @private_attribute.setter\n",
    "    def private_attribute(self, value):\n",
    "        self.__private_attribute = value\n"
   ]
  },
  {
   "cell_type": "markdown",
   "metadata": {},
   "source": [
    "# Inheritance in Python\n",
    "Inheritance is a key concept in object-oriented programming (OOP) that allows a class to inherit attributes and methods from another class. It promotes code reusability and facilitates the creation of a hierarchy of classes.\n",
    "\n",
    "## 1. **Parent Class (Base Class or Superclass):**\n",
    "A class whose attributes and methods are inherited by another class."
   ]
  },
  {
   "cell_type": "code",
   "execution_count": null,
   "metadata": {},
   "outputs": [],
   "source": [
    "# Example\n",
    "class Animal:\n",
    "    def __init__(self, name):\n",
    "        self.name = name\n",
    "\n",
    "    def speak(self):\n",
    "        return f\"{self.name} speaks\""
   ]
  },
  {
   "cell_type": "markdown",
   "metadata": {},
   "source": [
    "## 2. **Child Class (Derived Class or Subclass):**\n",
    "A class that inherits attributes and methods from another class."
   ]
  },
  {
   "cell_type": "code",
   "execution_count": null,
   "metadata": {},
   "outputs": [],
   "source": [
    "# Example\n",
    "class Dog(Animal):\n",
    "    def bark(self):\n",
    "        return \"Woof!\"\n",
    "# Here class Dog is the child class of Clas animal"
   ]
  },
  {
   "cell_type": "markdown",
   "metadata": {},
   "source": [
    "## 3. **Inheriting Attributes:**\n",
    "Child classes inherit attributes from the parent class."
   ]
  },
  {
   "cell_type": "code",
   "execution_count": null,
   "metadata": {},
   "outputs": [],
   "source": [
    "dog = Dog(\"Buddy\")\n",
    "print(dog.name)  # Accessing inherited attribute"
   ]
  },
  {
   "cell_type": "markdown",
   "metadata": {},
   "source": [
    "## 4. **Inheriting Methods:**\n",
    "Child classes inherit methods from the parent class."
   ]
  },
  {
   "cell_type": "code",
   "execution_count": null,
   "metadata": {},
   "outputs": [],
   "source": [
    "dog = Dog(\"Buddy\")\n",
    "print(dog.speak())  # Inherited method call"
   ]
  },
  {
   "cell_type": "markdown",
   "metadata": {},
   "source": [
    "## 5. **Overriding Methods:**\n",
    "Child classes can override methods inherited from the parent class."
   ]
  },
  {
   "cell_type": "code",
   "execution_count": null,
   "metadata": {},
   "outputs": [],
   "source": [
    "# here the Cat class overrides the speak method inherited from the Animal class.\n",
    "class Cat(Animal):\n",
    "    def speak(self):\n",
    "        return \"Meow!\""
   ]
  },
  {
   "cell_type": "markdown",
   "metadata": {},
   "source": [
    "## 6. **Super() Function:**\n",
    "The super() function is used to call a method from the parent class."
   ]
  },
  {
   "cell_type": "code",
   "execution_count": null,
   "metadata": {},
   "outputs": [],
   "source": [
    "class Cat(Animal):\n",
    "    def speak(self):\n",
    "        parent_speak = super().speak()\n",
    "        return f\"{parent_speak} and {self.name} purrs\""
   ]
  },
  {
   "cell_type": "markdown",
   "metadata": {},
   "source": [
    "## 7. **Multiple Inheritance:**\n",
    "A class can inherit from multiple parent classes."
   ]
  },
  {
   "cell_type": "code",
   "execution_count": null,
   "metadata": {},
   "outputs": [],
   "source": [
    "class Pet(Dog, Cat):\n",
    "    pass"
   ]
  },
  {
   "cell_type": "markdown",
   "metadata": {},
   "source": [
    "# Polymorphism in Python\n",
    "Polymorphism is a fundamental concept in object-oriented programming (OOP) that allows objects of different classes to be treated as objects of a common base class. It enables a single interface to represent different types or forms.\n",
    "\n",
    "## 1. **Types of Polymorphism:**\n",
    "\n",
    "### a. Compile-time Polymorphism (Static Binding):\n",
    "- Also known as Method Overloading.\n",
    "- Multiple methods with the same name but different parameters.\n",
    "- Python achieves a form of method overloading through default values and variable-length argument lists."
   ]
  },
  {
   "cell_type": "code",
   "execution_count": null,
   "metadata": {},
   "outputs": [],
   "source": [
    "class Calculator:\n",
    "    def add(self, x, y):\n",
    "        return x + y\n",
    "\n",
    "    def add(self, x, y, z=0):\n",
    "        return x + y + z\n",
    "\n",
    "# Usage\n",
    "calculator = Calculator()\n",
    "print(calculator.add(1, 2))        # Works with the second method due to default value\n",
    "print(calculator.add(1, 2, 3))     # Works with the second method"
   ]
  },
  {
   "cell_type": "markdown",
   "metadata": {},
   "source": [
    "### b. Runtime Polymorphism (Dynamic Binding):\n",
    "- Also known as Method Overriding.\n",
    "- Occurs when a subclass provides a specific implementation for a method already defined in its superclass."
   ]
  },
  {
   "cell_type": "code",
   "execution_count": null,
   "metadata": {},
   "outputs": [],
   "source": [
    "# Example\n",
    "class Animal:\n",
    "    def speak(self):\n",
    "        return \"Animal speaks\"\n",
    "\n",
    "class Dog(Animal):\n",
    "    def speak(self):\n",
    "        return \"Dog barks\"\n",
    "\n",
    "# Usage\n",
    "dog = Dog()\n",
    "print(dog.speak())  # Outputs \"Dog barks\""
   ]
  },
  {
   "cell_type": "markdown",
   "metadata": {},
   "source": [
    "## 2. **Operator Overloading:**\n",
    "- Allows defining how operators behave for objects of a class.\n",
    "- Special methods like __add__, __sub__, etc., can be implemented to overload operators."
   ]
  },
  {
   "cell_type": "code",
   "execution_count": null,
   "metadata": {},
   "outputs": [],
   "source": [
    "# Example\n",
    "class Point:\n",
    "    def __init__(self, x, y):\n",
    "        self.x = x\n",
    "        self.y = y\n",
    "\n",
    "    def __add__(self, other):\n",
    "        return Point(self.x + other.x, self.y + other.y)\n",
    "\n",
    "# Usage\n",
    "point1 = Point(1, 2)\n",
    "point2 = Point(3, 4)\n",
    "result = point1 + point2\n",
    "print(f\"({result.x}, {result.y})\")  # Outputs \"(4, 6)\""
   ]
  }
 ],
 "metadata": {
  "language_info": {
   "name": "python"
  }
 },
 "nbformat": 4,
 "nbformat_minor": 2
}
