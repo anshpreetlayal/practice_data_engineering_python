{
 "cells": [
  {
   "cell_type": "markdown",
   "metadata": {},
   "source": [
    "# Object-Oriented Programming (OOP) in Python\n",
    "\n",
    "Object-Oriented Programming (OOP) is a programming paradigm that structures code around the concept of \"objects.\" In Python, objects are instances of classes, which act as blueprints or templates defining the properties (attributes) and behaviors (methods) that objects of the class will have.\n",
    "\n",
    "## Key Principles:\n",
    "\n",
    "1. **Encapsulation:**\n",
    "   - Encapsulation involves bundling data (attributes) and methods (functions) within a single unit (class).\n",
    "   - It hides the internal details of how the object works and exposes a well-defined interface.\n",
    "\n",
    "2. **Inheritance:**\n",
    "   - Inheritance is a mechanism where a new class (subclass or derived class) inherits properties and behaviors from an existing class (base class or parent class).\n",
    "   - It promotes code reuse and the creation of a hierarchy of classes.\n",
    "\n",
    "3. **Polymorphism:**\n",
    "   - Polymorphism allows objects of different classes to be treated as instances of their common parent class.\n",
    "   - It provides flexibility and modularity, enabling code to work with objects of different types.\n",
    "\n",
    "OOP in Python provides a powerful and flexible way to design and structure code. Classes and objects facilitate the representation of real-world entities, and the principles of encapsulation, inheritance, and polymorphism contribute to the creation of modular and reusable code."
   ]
  },
  {
   "cell_type": "markdown",
   "metadata": {},
   "source": [
    "### Classes:\n",
    "\n",
    "1. **Class Definition:**\n",
    "   - A class is a blueprint or a template for creating objects.\n",
    "   - It defines the attributes (characteristics) and methods (functions) that the objects of the class will have."
   ]
  },
  {
   "cell_type": "code",
   "execution_count": null,
   "metadata": {},
   "outputs": [],
   "source": [
    "# Example\n",
    "\n",
    "class Dog:\n",
    "    def __init__(self, name, age):\n",
    "        self.name = name\n",
    "        self.age = age\n",
    "\n",
    "    def bark(self):\n",
    "        print(\"Woof!\")"
   ]
  },
  {
   "cell_type": "markdown",
   "metadata": {},
   "source": [
    "2. **Object Instantiation:**\n",
    "- Objects are instances of a class. They represent specific instances of the entity defined by the class"
   ]
  },
  {
   "cell_type": "code",
   "execution_count": null,
   "metadata": {},
   "outputs": [],
   "source": [
    "# Creating objects (instances) of the class\n",
    "dog1 = Dog(\"Buddy\", 3)\n",
    "dog2 = Dog(\"Max\", 5)"
   ]
  },
  {
   "cell_type": "markdown",
   "metadata": {},
   "source": [
    "### Objects:\n",
    "\n",
    "1. **Accessing Attributes:**\n",
    "- You can access the attributes of an object using dot notation."
   ]
  },
  {
   "cell_type": "code",
   "execution_count": null,
   "metadata": {},
   "outputs": [],
   "source": [
    "print(dog1.name)  # Outputs: Buddy\n",
    "print(dog2.age)   # Outputs: 5"
   ]
  },
  {
   "cell_type": "markdown",
   "metadata": {},
   "source": [
    "2. **Calling Methods:**\n",
    "- Objects can execute methods defined in their class."
   ]
  },
  {
   "cell_type": "code",
   "execution_count": null,
   "metadata": {},
   "outputs": [],
   "source": [
    "dog1.bark()  # Outputs: Woof!\n",
    "dog2.bark()  # Outputs: Woof!"
   ]
  },
  {
   "cell_type": "code",
   "execution_count": null,
   "metadata": {},
   "outputs": [],
   "source": [
    "# Example\n",
    "class Dog:\n",
    "    def __init__(self, name, age):\n",
    "        self.name = name\n",
    "        self.age = age\n",
    "\n",
    "    def bark(self):\n",
    "        print(\"Woof!\")\n",
    "\n",
    "# Creating objects (instances) of the class\n",
    "dog1 = Dog(\"Buddy\", 3)\n",
    "dog2 = Dog(\"Max\", 5)\n",
    "\n",
    "# Accessing attributes\n",
    "print(f\"{dog1.name} is {dog1.age} years old.\")\n",
    "\n",
    "# Calling methods\n",
    "dog2.bark()  # Outputs: Woof!\n"
   ]
  }
 ],
 "metadata": {
  "language_info": {
   "name": "python"
  }
 },
 "nbformat": 4,
 "nbformat_minor": 2
}
