{
 "cells": [
  {
   "cell_type": "markdown",
   "metadata": {},
   "source": [
    "# Python Control Flow\n",
    "## Conditional Statements\n",
    "\n",
    "Conditional statements allow you to control the flow of a program based on certain conditions.\n",
    "\n",
    "### Definitions:\n",
    "\n",
    "- **If Statement:**\n",
    "  Executes a block of code if a specified condition is true."
   ]
  },
  {
   "cell_type": "code",
   "execution_count": 4,
   "metadata": {},
   "outputs": [
    {
     "name": "stdout",
     "output_type": "stream",
     "text": [
      "You are an adult.\n"
     ]
    }
   ],
   "source": [
    "# Example of an if statement\n",
    "\n",
    "# Assign a value to a variable\n",
    "age = 25\n",
    "\n",
    "# Check if the person is an adult based on the age\n",
    "if age >= 18:\n",
    "    print(\"You are an adult.\")\n",
    "else:\n",
    "    print(\"You are a minor.\")"
   ]
  },
  {
   "cell_type": "markdown",
   "metadata": {},
   "source": [
    "- **If-Else Statement:**\n",
    "  Executes one block of code if a specified condition is true and another block if it's false."
   ]
  },
  {
   "cell_type": "code",
   "execution_count": 5,
   "metadata": {},
   "outputs": [
    {
     "name": "stdout",
     "output_type": "stream",
     "text": [
      "It's cold outside.\n"
     ]
    }
   ],
   "source": [
    "# Example of an if-else statement\n",
    "\n",
    "# Assign a value to a variable\n",
    "temperature = 25\n",
    "\n",
    "# Check if it's hot or cold based on the temperature\n",
    "if temperature > 30:\n",
    "    print(\"It's hot outside.\")\n",
    "else:\n",
    "    print(\"It's cold outside.\")"
   ]
  },
  {
   "cell_type": "markdown",
   "metadata": {},
   "source": [
    "- **If-Elif-Else Statement:**\n",
    "  Allows checking multiple conditions sequentially."
   ]
  },
  {
   "cell_type": "code",
   "execution_count": 6,
   "metadata": {},
   "outputs": [
    {
     "name": "stdout",
     "output_type": "stream",
     "text": [
      "Your score is 75, and your grade is C.\n"
     ]
    }
   ],
   "source": [
    "# Example of an if-elif-else statement\n",
    "\n",
    "# Assign a value to a variable\n",
    "score = 75\n",
    "\n",
    "# Check the grade based on the score\n",
    "if score >= 90:\n",
    "    grade = 'A'\n",
    "elif score >= 80:\n",
    "    grade = 'B'\n",
    "elif score >= 70:\n",
    "    grade = 'C'\n",
    "else:\n",
    "    grade = 'D'\n",
    "\n",
    "# Print the result\n",
    "print(f\"Your score is {score}, and your grade is {grade}.\")\n"
   ]
  },
  {
   "cell_type": "code",
   "execution_count": null,
   "metadata": {},
   "outputs": [],
   "source": []
  }
 ],
 "metadata": {
  "kernelspec": {
   "display_name": "venv",
   "language": "python",
   "name": "python3"
  },
  "language_info": {
   "codemirror_mode": {
    "name": "ipython",
    "version": 3
   },
   "file_extension": ".py",
   "mimetype": "text/x-python",
   "name": "python",
   "nbconvert_exporter": "python",
   "pygments_lexer": "ipython3",
   "version": "3.11.6"
  }
 },
 "nbformat": 4,
 "nbformat_minor": 2
}
