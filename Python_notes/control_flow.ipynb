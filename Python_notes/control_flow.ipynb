{
 "cells": [
  {
   "cell_type": "markdown",
   "metadata": {},
   "source": [
    "# Python Control Flow\n",
    "## Conditional Statements\n",
    "\n",
    "Conditional statements allow you to control the flow of a program based on certain conditions.\n",
    "\n",
    "### Definitions:\n",
    "\n",
    "- **If Statement:**\n",
    "  Executes a block of code if a specified condition is true.\n",
    "\n",
    "- **If-Else Statement:**\n",
    "  Executes one block of code if a specified condition is true and another block if it's false.\n",
    "\n",
    "- **If-Elif-Else Statement:**\n",
    "  Allows checking multiple conditions sequentially."
   ]
  },
  {
   "cell_type": "code",
   "execution_count": 9,
   "metadata": {},
   "outputs": [
    {
     "name": "stdout",
     "output_type": "stream",
     "text": [
      "you are human!\n"
     ]
    }
   ],
   "source": [
    "u = \"you\"\n",
    "if u:\n",
    "     print(\"you are human!\")    "
   ]
  },
  {
   "cell_type": "markdown",
   "metadata": {},
   "source": [
    "- **If-Else Statement:**\n",
    "  Executes one block of code if a specified condition is true and another block if it's false."
   ]
  },
  {
   "cell_type": "code",
   "execution_count": null,
   "metadata": {},
   "outputs": [],
   "source": [
    "Implementation"
   ]
  },
  {
   "cell_type": "markdown",
   "metadata": {},
   "source": [
    "- **If-Elif-Else Statement:**\n",
    "  Allows checking multiple conditions sequentially."
   ]
  },
  {
   "cell_type": "code",
   "execution_count": null,
   "metadata": {},
   "outputs": [],
   "source": [
    "Implementation"
   ]
  }
 ],
 "metadata": {
  "kernelspec": {
   "display_name": "venv",
   "language": "python",
   "name": "python3"
  },
  "language_info": {
   "codemirror_mode": {
    "name": "ipython",
    "version": 3
   },
   "file_extension": ".py",
   "mimetype": "text/x-python",
   "name": "python",
   "nbconvert_exporter": "python",
   "pygments_lexer": "ipython3",
   "version": "3.11.6"
  }
 },
 "nbformat": 4,
 "nbformat_minor": 2
}
