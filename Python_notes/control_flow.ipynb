{
 "cells": [
  {
   "cell_type": "markdown",
   "metadata": {},
   "source": [
    "# Python Control Flow\n",
    "## Conditional Statements\n",
    "\n",
    "Conditional statements allow you to control the flow of a program based on certain conditions.\n",
    "\n",
    "### Definitions:\n",
    "\n",
    "- **If Statement:**\n",
    "  Executes a block of code if a specified condition is true."
   ]
  },
  {
   "cell_type": "code",
   "execution_count": 4,
   "metadata": {},
   "outputs": [
    {
     "name": "stdout",
     "output_type": "stream",
     "text": [
      "You are an adult.\n"
     ]
    }
   ],
   "source": [
    "# Example of an if statement\n",
    "\n",
    "# Assign a value to a variable\n",
    "age = 25\n",
    "\n",
    "# Check if the person is an adult based on the age\n",
    "if age >= 18:\n",
    "    print(\"You are an adult.\")\n",
    "else:\n",
    "    print(\"You are a minor.\")"
   ]
  },
  {
   "cell_type": "markdown",
   "metadata": {},
   "source": [
    "- **If-Else Statement:**\n",
    "  Executes one block of code if a specified condition is true and another block if it's false."
   ]
  },
  {
   "cell_type": "code",
   "execution_count": 5,
   "metadata": {},
   "outputs": [
    {
     "name": "stdout",
     "output_type": "stream",
     "text": [
      "It's cold outside.\n"
     ]
    }
   ],
   "source": [
    "# Example of an if-else statement\n",
    "\n",
    "# Assign a value to a variable\n",
    "temperature = 25\n",
    "\n",
    "# Check if it's hot or cold based on the temperature\n",
    "if temperature > 30:\n",
    "    print(\"It's hot outside.\")\n",
    "else:\n",
    "    print(\"It's cold outside.\")"
   ]
  },
  {
   "cell_type": "markdown",
   "metadata": {},
   "source": [
    "- **If-Elif-Else Statement:**\n",
    "  Allows checking multiple conditions sequentially."
   ]
  },
  {
   "cell_type": "code",
   "execution_count": 6,
   "metadata": {},
   "outputs": [
    {
     "name": "stdout",
     "output_type": "stream",
     "text": [
      "Your score is 75, and your grade is C.\n"
     ]
    }
   ],
   "source": [
    "# Example of an if-elif-else statement\n",
    "\n",
    "# Assign a value to a variable\n",
    "score = 75\n",
    "\n",
    "# Check the grade based on the score\n",
    "if score >= 90:\n",
    "    grade = 'A'\n",
    "elif score >= 80:\n",
    "    grade = 'B'\n",
    "elif score >= 70:\n",
    "    grade = 'C'\n",
    "else:\n",
    "    grade = 'D'\n",
    "\n",
    "# Print the result\n",
    "print(f\"Your score is {score}, and your grade is {grade}.\")\n"
   ]
  },
  {
   "cell_type": "markdown",
   "metadata": {},
   "source": [
    "- **While Loop** : Allows us to execute a set of statements as long as a condition is true."
   ]
  },
  {
   "cell_type": "code",
   "execution_count": 7,
   "metadata": {},
   "outputs": [
    {
     "name": "stdout",
     "output_type": "stream",
     "text": [
      "Count is 0\n",
      "Count is 1\n",
      "Count is 2\n",
      "Count is 3\n",
      "Count is 4\n",
      "While loop finished.\n"
     ]
    }
   ],
   "source": [
    "# Example of a while loop\n",
    "\n",
    "# Initialize a counter\n",
    "count = 0\n",
    "\n",
    "# Execute the loop while the counter is less than 5\n",
    "while count < 5:\n",
    "    print(f\"Count is {count}\")\n",
    "    count += 1  # Increment the counter in each iteration\n",
    "\n",
    "print(\"While loop finished.\")"
   ]
  },
  {
   "cell_type": "markdown",
   "metadata": {},
   "source": [
    "- **For loop** : For loop in Python is used for iterating over a sequence (that is either a list, tuple, dictionary, string, or range). It repeatedly executes a block of code for each element in the sequence, iterating through the items one by one."
   ]
  },
  {
   "cell_type": "code",
   "execution_count": null,
   "metadata": {},
   "outputs": [],
   "source": [
    "# Example of a for loop\n",
    "\n",
    "# Iterate over a sequence of numbers\n",
    "for num in range(1,6):\n",
    "     print(f\"current number: {num}\")\n",
    "     \n",
    "# Iterate over a list of animals\n",
    "animals = [\"dog\", \"cat\", \"beaver\", \"capybara\", \"otter\", \"dolphin\"]\n",
    "for animal in animals:\n",
    "    print(f\"Current animal is: {animal}\")\n",
    "    \n",
    "# Iterate over characters in a string\n",
    "word = \"Python\"\n",
    "for char in word:\n",
    "    print(f\"Current character: {char}\")\n"
   ]
  },
  {
   "cell_type": "code",
   "execution_count": null,
   "metadata": {},
   "outputs": [],
   "source": []
  }
 ],
 "metadata": {
  "kernelspec": {
   "display_name": "venv",
   "language": "python",
   "name": "python3"
  },
  "language_info": {
   "codemirror_mode": {
    "name": "ipython",
    "version": 3
   },
   "file_extension": ".py",
   "mimetype": "text/x-python",
   "name": "python",
   "nbconvert_exporter": "python",
   "pygments_lexer": "ipython3",
   "version": "3.11.6"
  }
 },
 "nbformat": 4,
 "nbformat_minor": 2
}
