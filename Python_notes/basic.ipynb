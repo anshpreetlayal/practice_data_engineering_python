{
 "cells": [
  {
   "cell_type": "markdown",
   "id": "e5079344-76b4-42cc-a335-f12945db6a3d",
   "metadata": {},
   "source": [
    "# Pytho  Basics"
   ]
  },
  {
   "cell_type": "markdown",
   "id": "ba3412a5",
   "metadata": {},
   "source": [
    "# Python Variables and Their Types\n",
    "\n",
    "In Python, variables are essential for storing and managing data. Each variable is associated with a specific data type that defines the kind of data it can hold. Here are some common data types along with examples of variable declarations in Python:\n",
    "\n",
    "## Integer (`int`)\n",
    "\n",
    "- Stores whole numbers without any decimal points.\n",
    "- Example: `age = 25`\n",
    "\n",
    "## Float (`float`)\n",
    "\n",
    "- Stores numbers with decimal points.\n",
    "- Example: `price = 19.99`\n",
    "\n",
    "## String (`str`)\n",
    "\n",
    "- Stores sequences of characters.\n",
    "- Example: `name = \"John\"`\n",
    "\n",
    "## Boolean (`bool`)\n",
    "\n",
    "- Stores either `True` or `False`.\n",
    "- Example: `is_adult = True`\n",
    "\n",
    "## List (`list`)\n",
    "\n",
    "- Stores an ordered collection of items.\n",
    "- Example: `fruits = [\"apple\", \"banana\", \"orange\"]`\n",
    "\n",
    "## Tuple (`tuple`)\n",
    "\n",
    "- Similar to a list but immutable (cannot be changed after creation).\n",
    "- Example: `coordinates = (3, 4)`\n",
    "\n",
    "## Dictionary (`dict`)\n",
    "\n",
    "- Stores key-value pairs, where each key is associated with a value.\n",
    "- Example: `person = {\"name\": \"Alice\", \"age\": 30}`\n",
    "\n",
    "## Set (`set`)\n",
    "\n",
    "- Stores an unordered collection of unique items.\n",
    "- Example: `unique_numbers = {1, 2, 3, 4, 5}`\n",
    "\n",
    "## NoneType (`None`)\n",
    "\n",
    "- Represents the absence of a value or a null value.\n",
    "- Example: `result = None`\n"
   ]
  },
  {
   "cell_type": "code",
   "execution_count": null,
   "id": "4dfcac24-b8f0-48b3-9154-a90e4c4c4d7e",
   "metadata": {},
   "outputs": [],
   "source": [
    "# Variable declarations\n",
    "age = 25\n",
    "price = 19.99\n",
    "name = \"John\"\n",
    "is_adult = True\n",
    "fruits = [\"apple\", \"banana\", \"orange\"]\n",
    "coordinates = (3, 4)\n",
    "person = {\"name\": \"Alice\", \"age\": 30}\n",
    "unique_numbers = {1, 2, 3, 4, 5}\n",
    "result = None"
   ]
  },
  {
   "cell_type": "markdown",
   "id": "8f40985f",
   "metadata": {},
   "source": [
    "# Arithmetic Operators\n",
    "Arithmetic operators perform mathematical operations on numeric values.\n",
    "\n",
    "## Definitions:\n",
    "\n",
    "- **Addition (`+`):**\n",
    "  Adds two numbers.\n",
    "\n",
    "- **Subtraction (`-`):**\n",
    "  Subtracts the right operand from the left operand.\n",
    "\n",
    "- **Multiplication (`*`):**\n",
    "  Multiplies two numbers.\n",
    "\n",
    "- **Division (`/`):**\n",
    "  Divides the left operand by the right operand.\n",
    "\n",
    "- **Modulus (`%`):**\n",
    "  Returns the remainder of the division of the left operand by the right operand.\n",
    "\n",
    "- **Exponentiation (`**`):**\n",
    "  Raises the left operand to the power of the right operand.\n"
   ]
  },
  {
   "cell_type": "code",
   "execution_count": null,
   "id": "7a111600",
   "metadata": {},
   "outputs": [],
   "source": [
    "# Arithmetic operators implementation\n",
    "x = 10\n",
    "y = 3\n",
    "result_add = x + y\n",
    "result_subtract = x - y\n",
    "result_multiply = x * y\n",
    "result_divide = x / y\n",
    "result_modulus = x % y\n",
    "result_power = x ** y"
   ]
  },
  {
   "cell_type": "markdown",
   "id": "e92b48a2",
   "metadata": {},
   "source": [
    "# Comparison Operators\n",
    "Comparison operators compare values and return True or False.\n",
    "\n",
    "\n",
    "## Definitions:\n",
    "\n",
    "- **Equal to (==):**\n",
    "Returns True if the operands are equal.\n",
    "\n",
    "- **Not equal to (!=):**\n",
    "Returns True if the operands are not equal.\n",
    "\n",
    "- **Greater than (>):**\n",
    "Returns True if the left operand is greater than the right operand.\n",
    "\n",
    "- **Less than (<):**\n",
    "Returns True if the left operand is less than the right operand.\n",
    "\n",
    "- **Greater than or equal to (>=):**\n",
    "Returns True if the left operand is greater than or equal to the right operand.\n",
    "\n",
    "- **Less than or equal to (<=):**\n",
    "Returns True if the left operand is less than or equal to the right operand."
   ]
  },
  {
   "cell_type": "code",
   "execution_count": null,
   "id": "56da916f",
   "metadata": {},
   "outputs": [],
   "source": [
    "# Comparison operators implementation\n",
    "# Example 1: Equal to (==)\n",
    "x = 5\n",
    "y = 5\n",
    "result1 = (x == y)  # True\n",
    "\n",
    "# Example 2: Not equal to (!=)\n",
    "result2 = (x != y)  # False\n",
    "\n",
    "# Example 3: Greater than (>)\n",
    "result3 = (x > y)   # False\n",
    "\n",
    "# Example 4: Less than (<)\n",
    "result4 = (x < y)   # False\n",
    "\n",
    "# Example 5: Greater than or equal to (>=)\n",
    "result5 = (x >= y)  # True\n",
    "\n",
    "# Example 6: Less than or equal to (<=)\n",
    "result6 = (x <= y)  # True\n",
    "\n",
    "# Displaying results\n",
    "print(\"Equal to (==):\", result1)\n",
    "print(\"Not equal to (!=):\", result2)\n",
    "print(\"Greater than (>):\", result3)\n",
    "print(\"Less than (<):\", result4)\n",
    "print(\"Greater than or equal to (>=):\", result5)\n",
    "print(\"Less than or equal to (<=):\", result6)"
   ]
  },
  {
   "cell_type": "markdown",
   "id": "395dd7d4",
   "metadata": {},
   "source": [
    "# Logical Operators\n",
    "Logical operators perform logical operations on Boolean values.\n",
    "\n",
    "## Definitions:\n",
    "\n",
    "- **AND (`and`):**\n",
    "  Returns True if both operands are true.\n",
    "\n",
    "- **OR (`or`):**\n",
    "  Returns True if at least one operand is true.\n",
    "\n",
    "- **NOT (`not`):**\n",
    "  Returns True if the operand is false and vice versa."
   ]
  },
  {
   "cell_type": "code",
   "execution_count": null,
   "id": "9c56ae05",
   "metadata": {},
   "outputs": [],
   "source": [
    "# Logical operators implementation\n",
    "is_adult = True\n",
    "is_student = False\n",
    "\n",
    "result_and = is_adult and is_student\n",
    "result_or = is_adult or is_student\n",
    "result_not = not is_student"
   ]
  },
  {
   "cell_type": "markdown",
   "id": "5f918079",
   "metadata": {},
   "source": [
    "# Membership Operators\n",
    "Membership operators test whether a value is a member of a sequence.\n",
    "\n",
    "# Definitions:\n",
    "- **In (in):**\n",
    "Returns True if a value is found in the sequence.\n",
    "\n",
    "- **Not in (not in):**\n",
    "Returns True if a value is not found in the sequence."
   ]
  },
  {
   "cell_type": "code",
   "execution_count": null,
   "id": "bdb5adec",
   "metadata": {},
   "outputs": [],
   "source": [
    "# Membership operators implementation\n",
    "numbers = [1, 2, 3, 4]\n",
    "\n",
    "result_in = (3 in numbers)\n",
    "result_not_in = (5 not in numbers)\n"
   ]
  },
  {
   "cell_type": "code",
   "execution_count": null,
   "id": "527a9142",
   "metadata": {},
   "outputs": [],
   "source": []
  }
 ],
 "metadata": {
  "kernelspec": {
   "display_name": "Python 3 (ipykernel)",
   "language": "python",
   "name": "python3"
  },
  "language_info": {
   "codemirror_mode": {
    "name": "ipython",
    "version": 3
   },
   "file_extension": ".py",
   "mimetype": "text/x-python",
   "name": "python",
   "nbconvert_exporter": "python",
   "pygments_lexer": "ipython3",
   "version": "3.11.6"
  }
 },
 "nbformat": 4,
 "nbformat_minor": 5
}
