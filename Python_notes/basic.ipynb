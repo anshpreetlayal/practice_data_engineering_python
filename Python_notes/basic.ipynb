{
 "cells": [
  {
   "cell_type": "markdown",
   "id": "e5079344-76b4-42cc-a335-f12945db6a3d",
   "metadata": {},
   "source": [
    "# Basic Data types"
   ]
  },
  {
   "cell_type": "markdown",
   "id": "ba3412a5",
   "metadata": {},
   "source": [
    "# Python Variables and Their Types\n",
    "\n",
    "In Python, variables are essential for storing and managing data. Each variable is associated with a specific data type that defines the kind of data it can hold. Here are some common data types along with examples of variable declarations in Python:\n",
    "\n",
    "## Integer (`int`)\n",
    "\n",
    "- Stores whole numbers without any decimal points.\n",
    "- Example: `age = 25`\n",
    "\n",
    "## Float (`float`)\n",
    "\n",
    "- Stores numbers with decimal points.\n",
    "- Example: `price = 19.99`\n",
    "\n",
    "## String (`str`)\n",
    "\n",
    "- Stores sequences of characters.\n",
    "- Example: `name = \"John\"`\n",
    "\n",
    "## Boolean (`bool`)\n",
    "\n",
    "- Stores either `True` or `False`.\n",
    "- Example: `is_adult = True`\n",
    "\n",
    "## List (`list`)\n",
    "\n",
    "- Stores an ordered collection of items.\n",
    "- Example: `fruits = [\"apple\", \"banana\", \"orange\"]`\n",
    "\n",
    "## Tuple (`tuple`)\n",
    "\n",
    "- Similar to a list but immutable (cannot be changed after creation).\n",
    "- Example: `coordinates = (3, 4)`\n",
    "\n",
    "## Dictionary (`dict`)\n",
    "\n",
    "- Stores key-value pairs, where each key is associated with a value.\n",
    "- Example: `person = {\"name\": \"Alice\", \"age\": 30}`\n",
    "\n",
    "## Set (`set`)\n",
    "\n",
    "- Stores an unordered collection of unique items.\n",
    "- Example: `unique_numbers = {1, 2, 3, 4, 5}`\n",
    "\n",
    "## NoneType (`None`)\n",
    "\n",
    "- Represents the absence of a value or a null value.\n",
    "- Example: `result = None`\n"
   ]
  },
  {
   "cell_type": "code",
   "execution_count": null,
   "id": "4dfcac24-b8f0-48b3-9154-a90e4c4c4d7e",
   "metadata": {},
   "outputs": [],
   "source": [
    "# Variable declarations\n",
    "age = 25\n",
    "price = 19.99\n",
    "name = \"John\"\n",
    "is_adult = True\n",
    "fruits = [\"apple\", \"banana\", \"orange\"]\n",
    "coordinates = (3, 4)\n",
    "person = {\"name\": \"Alice\", \"age\": 30}\n",
    "unique_numbers = {1, 2, 3, 4, 5}\n",
    "result = None"
   ]
  }
 ],
 "metadata": {
  "kernelspec": {
   "display_name": "Python 3 (ipykernel)",
   "language": "python",
   "name": "python3"
  },
  "language_info": {
   "codemirror_mode": {
    "name": "ipython",
    "version": 3
   },
   "file_extension": ".py",
   "mimetype": "text/x-python",
   "name": "python",
   "nbconvert_exporter": "python",
   "pygments_lexer": "ipython3",
   "version": "3.11.6"
  }
 },
 "nbformat": 4,
 "nbformat_minor": 5
}
