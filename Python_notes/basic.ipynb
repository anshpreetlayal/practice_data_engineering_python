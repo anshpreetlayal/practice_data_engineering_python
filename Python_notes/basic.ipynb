{
 "cells": [
  {
   "cell_type": "markdown",
   "id": "e5079344-76b4-42cc-a335-f12945db6a3d",
   "metadata": {},
   "source": [
    "# Basic Data types"
   ]
  },
  {
   "cell_type": "code",
   "execution_count": null,
   "id": "4dfcac24-b8f0-48b3-9154-a90e4c4c4d7e",
   "metadata": {},
   "outputs": [],
   "source": [
    "#Defining a variable and its types\n",
    "x=4\n",
    "print(x)\n",
    "\n",
    "#strings\n",
    "name = \"ansh\""
   ]
  }
 ],
 "metadata": {
  "kernelspec": {
   "display_name": "Python 3 (ipykernel)",
   "language": "python",
   "name": "python3"
  },
  "language_info": {
   "codemirror_mode": {
    "name": "ipython",
    "version": 3
   },
   "file_extension": ".py",
   "mimetype": "text/x-python",
   "name": "python",
   "nbconvert_exporter": "python",
   "pygments_lexer": "ipython3",
   "version": "3.11.6"
  }
 },
 "nbformat": 4,
 "nbformat_minor": 5
}
